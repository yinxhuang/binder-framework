{
 "cells": [
  {
   "cell_type": "markdown",
   "id": "3dcf3eb0",
   "metadata": {},
   "source": [
    "# Day 4"
   ]
  },
  {
   "cell_type": "code",
   "execution_count": 101,
   "id": "055d974f",
   "metadata": {},
   "outputs": [],
   "source": [
    "import numpy as np\n",
    "import pandas as pd"
   ]
  },
  {
   "cell_type": "code",
   "execution_count": 115,
   "id": "9b59aa58",
   "metadata": {},
   "outputs": [
    {
     "data": {
      "text/plain": [
       "'1.4.2'"
      ]
     },
     "execution_count": 115,
     "metadata": {},
     "output_type": "execute_result"
    }
   ],
   "source": [
    "pd.__version__"
   ]
  },
  {
   "cell_type": "code",
   "execution_count": 102,
   "id": "7ff25690",
   "metadata": {},
   "outputs": [],
   "source": [
    "dtypes_dict = {\n",
    "\t'Company Name': object,\n",
    "\t'company contact': object,\n",
    "\t'company email': object,\n",
    "\t'company phone': object,\n",
    "\t'Address': object,\n",
    "\t'City': object,\n",
    "\t'State': object,\n",
    "\t'Postcode': object,\n",
    "\t'Industry': object,\n",
    "\t'Industry descr': object,\n",
    "\t'Company Type': object,\n",
    "\t'Current fulltime': float,\n",
    "\t'Job created': float,\n",
    "\t'Job retain': float,\n",
    "\t'Effective Date': object,\n",
    "\t'Total Savings': float,\n",
    "\t'Savings from beginning receiving benefits': object,\n",
    "\t'Borough': object,\n",
    "\t'Latitude': float,\n",
    "\t'Longitude': float,\n",
    "\t'Community Board': object,\n",
    "\t'Council District': object,\n",
    "\t'Census Tract': object,\n",
    "\t'BIN': object,\n",
    "\t'BBL': object,\n",
    "\t'NTA': object\n",
    "}\n",
    "\n",
    "dataset = pd.read_csv('Value_of_Energy_Cost_Savings_Program_Savings_for_Businesses_-_FY2020.csv', \n",
    "                      dtype=dtypes_dict, \n",
    "                      parse_dates=['Effective Date'],\n",
    "                      infer_datetime_format=True)"
   ]
  },
  {
   "cell_type": "code",
   "execution_count": 103,
   "id": "7fefc075",
   "metadata": {},
   "outputs": [
    {
     "data": {
      "text/plain": [
       "Company Name                                         object\n",
       "company contact                                      object\n",
       "company email                                        object\n",
       "company phone                                        object\n",
       "Address                                              object\n",
       "City                                                 object\n",
       "State                                                object\n",
       "Postcode                                             object\n",
       "Industry                                             object\n",
       "Industry descr                                       object\n",
       "Company Type                                         object\n",
       "Current fulltime                                    float64\n",
       "Job created                                         float64\n",
       "Job retain                                          float64\n",
       "Effective Date                               datetime64[ns]\n",
       "Total Savings                                       float64\n",
       "Savings from beginning receiving benefits            object\n",
       "Borough                                              object\n",
       "Latitude                                            float64\n",
       "Longitude                                           float64\n",
       "Community Board                                      object\n",
       "Council District                                     object\n",
       "Census Tract                                         object\n",
       "BIN                                                  object\n",
       "BBL                                                  object\n",
       "NTA                                                  object\n",
       "dtype: object"
      ]
     },
     "execution_count": 103,
     "metadata": {},
     "output_type": "execute_result"
    }
   ],
   "source": [
    "dataset.dtypes"
   ]
  },
  {
   "cell_type": "markdown",
   "id": "5772f8ad",
   "metadata": {},
   "source": [
    "## Question 1 \n",
    "How many different companies are represented in the dataset?"
   ]
  },
  {
   "cell_type": "markdown",
   "id": "8fcb7232",
   "metadata": {},
   "source": [
    "__Answer.__ The dataset contains __439__ different companies."
   ]
  },
  {
   "cell_type": "code",
   "execution_count": 104,
   "id": "f5809d8b",
   "metadata": {},
   "outputs": [
    {
     "data": {
      "text/plain": [
       "439"
      ]
     },
     "execution_count": 104,
     "metadata": {},
     "output_type": "execute_result"
    }
   ],
   "source": [
    "dataset['Company Name'].dropna().nunique()"
   ]
  },
  {
   "cell_type": "markdown",
   "id": "8cae26fc",
   "metadata": {},
   "source": [
    "## Question 2 \n",
    "What is the total number of jobs created for businesses in Queens?"
   ]
  },
  {
   "cell_type": "markdown",
   "id": "421b1ec4",
   "metadata": {},
   "source": [
    "__Answer.__ The total number of jobs created is __102__."
   ]
  },
  {
   "cell_type": "code",
   "execution_count": 105,
   "id": "ee8f65a4",
   "metadata": {},
   "outputs": [
    {
     "data": {
      "text/plain": [
       "102.0"
      ]
     },
     "execution_count": 105,
     "metadata": {},
     "output_type": "execute_result"
    }
   ],
   "source": [
    "dataset[dataset['Borough'] == 'Queens']['Job created'].sum()"
   ]
  },
  {
   "cell_type": "markdown",
   "id": "9e467be1",
   "metadata": {},
   "source": [
    "## Question 3\n",
    "How many different unique email domains names are there in the data set?"
   ]
  },
  {
   "cell_type": "markdown",
   "id": "c684d169",
   "metadata": {},
   "source": [
    "__Answer.__ There are __356__ different unique email domain names."
   ]
  },
  {
   "cell_type": "code",
   "execution_count": 106,
   "id": "e510dd30",
   "metadata": {},
   "outputs": [
    {
     "data": {
      "text/plain": [
       "356"
      ]
     },
     "execution_count": 106,
     "metadata": {},
     "output_type": "execute_result"
    }
   ],
   "source": [
    "dataset['company email'].str.split(pat='@', expand=True).get(1).dropna().nunique()"
   ]
  },
  {
   "cell_type": "markdown",
   "id": "91095395",
   "metadata": {},
   "source": [
    "## Question 4\n",
    "Considering only NTAs with at least 5 listed businesses, what is the average total savings and the total jobs created for each NTA?"
   ]
  },
  {
   "cell_type": "markdown",
   "id": "164ca48b",
   "metadata": {},
   "source": [
    "__Answer.__ Please see the analysis that follows."
   ]
  },
  {
   "cell_type": "code",
   "execution_count": 107,
   "id": "dcbf668b",
   "metadata": {},
   "outputs": [
    {
     "data": {
      "text/html": [
       "<div>\n",
       "<style scoped>\n",
       "    .dataframe tbody tr th:only-of-type {\n",
       "        vertical-align: middle;\n",
       "    }\n",
       "\n",
       "    .dataframe tbody tr th {\n",
       "        vertical-align: top;\n",
       "    }\n",
       "\n",
       "    .dataframe thead th {\n",
       "        text-align: right;\n",
       "    }\n",
       "</style>\n",
       "<table border=\"1\" class=\"dataframe\">\n",
       "  <thead>\n",
       "    <tr style=\"text-align: right;\">\n",
       "      <th></th>\n",
       "      <th>Job created</th>\n",
       "      <th>Total Savings</th>\n",
       "    </tr>\n",
       "    <tr>\n",
       "      <th>NTA</th>\n",
       "      <th></th>\n",
       "      <th></th>\n",
       "    </tr>\n",
       "  </thead>\n",
       "  <tbody>\n",
       "    <tr>\n",
       "      <th>Battery Park City-Lower Manhattan</th>\n",
       "      <td>NaN</td>\n",
       "      <td>469890.796667</td>\n",
       "    </tr>\n",
       "    <tr>\n",
       "      <th>Bushwick South</th>\n",
       "      <td>10.000000</td>\n",
       "      <td>26140.455000</td>\n",
       "    </tr>\n",
       "    <tr>\n",
       "      <th>Carroll Gardens-Columbia Street-Red Hook</th>\n",
       "      <td>NaN</td>\n",
       "      <td>24337.390000</td>\n",
       "    </tr>\n",
       "    <tr>\n",
       "      <th>College Point</th>\n",
       "      <td>2.000000</td>\n",
       "      <td>17159.372857</td>\n",
       "    </tr>\n",
       "    <tr>\n",
       "      <th>Crown Heights North</th>\n",
       "      <td>NaN</td>\n",
       "      <td>4036.298889</td>\n",
       "    </tr>\n",
       "    <tr>\n",
       "      <th>DUMBO-Vinegar Hill-Downtown Brooklyn-Boerum Hill</th>\n",
       "      <td>NaN</td>\n",
       "      <td>59950.340000</td>\n",
       "    </tr>\n",
       "    <tr>\n",
       "      <th>East New York</th>\n",
       "      <td>15.000000</td>\n",
       "      <td>48433.093333</td>\n",
       "    </tr>\n",
       "    <tr>\n",
       "      <th>East Williamsburg</th>\n",
       "      <td>NaN</td>\n",
       "      <td>13990.626364</td>\n",
       "    </tr>\n",
       "    <tr>\n",
       "      <th>Greenpoint</th>\n",
       "      <td>NaN</td>\n",
       "      <td>9753.649286</td>\n",
       "    </tr>\n",
       "    <tr>\n",
       "      <th>Hunters Point-Sunnyside-West Maspeth</th>\n",
       "      <td>NaN</td>\n",
       "      <td>23931.398933</td>\n",
       "    </tr>\n",
       "    <tr>\n",
       "      <th>Hunts Point</th>\n",
       "      <td>12.000000</td>\n",
       "      <td>39246.016154</td>\n",
       "    </tr>\n",
       "    <tr>\n",
       "      <th>Manhattanville</th>\n",
       "      <td>NaN</td>\n",
       "      <td>2760.888889</td>\n",
       "    </tr>\n",
       "    <tr>\n",
       "      <th>Maspeth</th>\n",
       "      <td>10.000000</td>\n",
       "      <td>6658.283333</td>\n",
       "    </tr>\n",
       "    <tr>\n",
       "      <th>Mott Haven-Port Morris</th>\n",
       "      <td>3.333333</td>\n",
       "      <td>17843.937857</td>\n",
       "    </tr>\n",
       "    <tr>\n",
       "      <th>Queensbridge-Ravenswood-Long Island City</th>\n",
       "      <td>NaN</td>\n",
       "      <td>61830.770625</td>\n",
       "    </tr>\n",
       "    <tr>\n",
       "      <th>SoHo-TriBeCa-Civic Center-Little Italy</th>\n",
       "      <td>NaN</td>\n",
       "      <td>37214.024000</td>\n",
       "    </tr>\n",
       "    <tr>\n",
       "      <th>Springfield Gardens South-Brookville</th>\n",
       "      <td>NaN</td>\n",
       "      <td>17757.662000</td>\n",
       "    </tr>\n",
       "    <tr>\n",
       "      <th>Steinway</th>\n",
       "      <td>20.000000</td>\n",
       "      <td>11227.155714</td>\n",
       "    </tr>\n",
       "    <tr>\n",
       "      <th>Sunset Park West</th>\n",
       "      <td>NaN</td>\n",
       "      <td>14316.976875</td>\n",
       "    </tr>\n",
       "    <tr>\n",
       "      <th>park-cemetery-etc-Brooklyn</th>\n",
       "      <td>NaN</td>\n",
       "      <td>14327.419333</td>\n",
       "    </tr>\n",
       "  </tbody>\n",
       "</table>\n",
       "</div>"
      ],
      "text/plain": [
       "                                                  Job created  Total Savings\n",
       "NTA                                                                         \n",
       "Battery Park City-Lower Manhattan                         NaN  469890.796667\n",
       "Bushwick South                                      10.000000   26140.455000\n",
       "Carroll Gardens-Columbia Street-Red Hook                  NaN   24337.390000\n",
       "College Point                                        2.000000   17159.372857\n",
       "Crown Heights North                                       NaN    4036.298889\n",
       "DUMBO-Vinegar Hill-Downtown Brooklyn-Boerum Hill          NaN   59950.340000\n",
       "East New York                                       15.000000   48433.093333\n",
       "East Williamsburg                                         NaN   13990.626364\n",
       "Greenpoint                                                NaN    9753.649286\n",
       "Hunters Point-Sunnyside-West Maspeth                      NaN   23931.398933\n",
       "Hunts Point                                         12.000000   39246.016154\n",
       "Manhattanville                                            NaN    2760.888889\n",
       "Maspeth                                             10.000000    6658.283333\n",
       "Mott Haven-Port Morris                               3.333333   17843.937857\n",
       "Queensbridge-Ravenswood-Long Island City                  NaN   61830.770625\n",
       "SoHo-TriBeCa-Civic Center-Little Italy                    NaN   37214.024000\n",
       "Springfield Gardens South-Brookville                      NaN   17757.662000\n",
       "Steinway                                            20.000000   11227.155714\n",
       "Sunset Park West                                          NaN   14316.976875\n",
       "park-cemetery-etc-Brooklyn                                NaN   14327.419333"
      ]
     },
     "execution_count": 107,
     "metadata": {},
     "output_type": "execute_result"
    }
   ],
   "source": [
    "nta_list = dataset.groupby('NTA').size().reset_index(name='business_count')\n",
    "relevant_ntas = nta_list[nta_list['business_count'] >= 5]\n",
    "relevant_businesses = pd.merge(dataset, relevant_ntas, on='NTA')\n",
    "result = pd.pivot_table(relevant_businesses, index='NTA', values=['Total Savings', 'Job created'], aggfunc='mean')\n",
    "result"
   ]
  },
  {
   "cell_type": "markdown",
   "id": "5af5a640",
   "metadata": {},
   "source": [
    "## Question 5\n",
    "Save your result for the previous question as a CSV file."
   ]
  },
  {
   "cell_type": "code",
   "execution_count": 108,
   "id": "a9bc9565",
   "metadata": {},
   "outputs": [],
   "source": [
    "result.to_csv('result.csv')"
   ]
  },
  {
   "cell_type": "markdown",
   "id": "8600e720",
   "metadata": {},
   "source": [
    "# Day 5"
   ]
  },
  {
   "cell_type": "code",
   "execution_count": 109,
   "id": "41d7d806",
   "metadata": {},
   "outputs": [],
   "source": [
    "import matplotlib.pyplot as plt"
   ]
  },
  {
   "cell_type": "markdown",
   "id": "6642969c",
   "metadata": {},
   "source": [
    "[C]reate a scatter plot of jobs created versus average savings. Use both a \n",
    "standard ..."
   ]
  },
  {
   "cell_type": "code",
   "execution_count": 110,
   "id": "065ec07f",
   "metadata": {},
   "outputs": [
    {
     "data": {
      "text/plain": [
       "<matplotlib.collections.PathCollection at 0x22f73cd54f0>"
      ]
     },
     "execution_count": 110,
     "metadata": {},
     "output_type": "execute_result"
    },
    {
     "data": {
      "image/png": "[encoded data removed]",
      "text/plain": [
       "<Figure size 432x288 with 1 Axes>"
      ]
     },
     "metadata": {
      "needs_background": "light"
     },
     "output_type": "display_data"
    }
   ],
   "source": [
    "plt.scatter(dataset['Job created'], dataset['Total Savings'])"
   ]
  },
  {
   "cell_type": "markdown",
   "id": "445d8f04",
   "metadata": {},
   "source": [
    "... and a logarithmic scale for the average savings."
   ]
  },
  {
   "cell_type": "code",
   "execution_count": 111,
   "id": "d81e52be",
   "metadata": {},
   "outputs": [
    {
     "data": {
      "image/png": "[encoded data removed]",
      "text/plain": [
       "<Figure size 432x288 with 1 Axes>"
      ]
     },
     "metadata": {
      "needs_background": "light"
     },
     "output_type": "display_data"
    }
   ],
   "source": [
    "fig, ax = plt.subplots()\n",
    "ax.scatter(dataset['Job created'], dataset['Total Savings'])\n",
    "ax.set_yscale('log')"
   ]
  },
  {
   "cell_type": "markdown",
   "id": "d68627cc",
   "metadata": {},
   "source": [
    "... histogram of the log of the average total savings. ..."
   ]
  },
  {
   "cell_type": "code",
   "execution_count": 112,
   "id": "56a038cc",
   "metadata": {},
   "outputs": [
    {
     "data": {
      "image/png": "[encoded data removed]",
      "text/plain": [
       "<Figure size 432x288 with 1 Axes>"
      ]
     },
     "metadata": {
      "needs_background": "light"
     },
     "output_type": "display_data"
    }
   ],
   "source": [
    "fig, axs = plt.subplots()\n",
    "axs.hist(dataset['Total Savings'])\n",
    "axs.set_yscale('log')"
   ]
  },
  {
   "cell_type": "markdown",
   "id": "dc067411",
   "metadata": {},
   "source": [
    "line plot of the total jobs created for each month."
   ]
  },
  {
   "cell_type": "code",
   "execution_count": 113,
   "id": "3e530880",
   "metadata": {},
   "outputs": [
    {
     "data": {
      "text/plain": [
       "year  month\n",
       "1993  2        15.0\n",
       "2004  3        10.0\n",
       "2005  2        12.0\n",
       "      3         0.0\n",
       "      6         0.0\n",
       "               ... \n",
       "2020  3         0.0\n",
       "      4         0.0\n",
       "      5         0.0\n",
       "      6         0.0\n",
       "      7         0.0\n",
       "Name: Job created, Length: 140, dtype: float64"
      ]
     },
     "execution_count": 113,
     "metadata": {},
     "output_type": "execute_result"
    }
   ],
   "source": [
    "monthly_totals = dataset.groupby([dataset['Effective Date'].dt.year.rename('year'), \n",
    "                 dataset['Effective Date'].dt.month.rename('month')]).sum()\n",
    "monthly_totals['Job created']"
   ]
  },
  {
   "cell_type": "code",
   "execution_count": 114,
   "id": "8ac2ffce",
   "metadata": {},
   "outputs": [
    {
     "data": {
      "text/plain": [
       "<AxesSubplot:xlabel='year,month'>"
      ]
     },
     "execution_count": 114,
     "metadata": {},
     "output_type": "execute_result"
    },
    {
     "data": {
      "image/png": "[encoded data removed]",
      "text/plain": [
       "<Figure size 432x288 with 1 Axes>"
      ]
     },
     "metadata": {
      "needs_background": "light"
     },
     "output_type": "display_data"
    }
   ],
   "source": [
    "fig, axs = plt.subplots()\n",
    "monthly_totals['Job created'].plot()"
   ]
  },
  {
   "cell_type": "code",
   "execution_count": null,
   "id": "b5d84f0d",
   "metadata": {},
   "outputs": [],
   "source": []
  }
 ],
 "metadata": {
  "kernelspec": {
   "display_name": "Python 3 (ipykernel)",
   "language": "python",
   "name": "python3"
  },
  "language_info": {
   "codemirror_mode": {
    "name": "ipython",
    "version": 3
   },
   "file_extension": ".py",
   "mimetype": "text/x-python",
   "name": "python",
   "nbconvert_exporter": "python",
   "pygments_lexer": "ipython3",
   "version": "3.9.12"
  }
 },
 "nbformat": 4,
 "nbformat_minor": 5
}
